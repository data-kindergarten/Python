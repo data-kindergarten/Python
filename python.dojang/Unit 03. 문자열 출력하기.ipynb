{
 "cells": [
  {
   "cell_type": "markdown",
   "id": "679dfab8",
   "metadata": {},
   "source": [
    "## Unit 03. 문자열 출력하기"
   ]
  },
  {
   "cell_type": "markdown",
   "id": "5e64da8a",
   "metadata": {},
   "source": [
    "### 출력 함수 print()"
   ]
  },
  {
   "cell_type": "code",
   "execution_count": 2,
   "id": "c8184f2d",
   "metadata": {},
   "outputs": [
    {
     "name": "stdout",
     "output_type": "stream",
     "text": [
      "Hello, world!\n",
      "Python Programming\n"
     ]
    }
   ],
   "source": [
    "print('Hello, world!')\n",
    "print('Python Programming')"
   ]
  }
 ],
 "metadata": {
  "kernelspec": {
   "display_name": "Python 3",
   "language": "python",
   "name": "python3"
  },
  "language_info": {
   "codemirror_mode": {
    "name": "ipython",
    "version": 3
   },
   "file_extension": ".py",
   "mimetype": "text/x-python",
   "name": "python",
   "nbconvert_exporter": "python",
   "pygments_lexer": "ipython3",
   "version": "3.8.8"
  },
  "toc": {
   "base_numbering": 1,
   "nav_menu": {},
   "number_sections": true,
   "sideBar": true,
   "skip_h1_title": false,
   "title_cell": "Table of Contents",
   "title_sidebar": "Contents",
   "toc_cell": false,
   "toc_position": {},
   "toc_section_display": true,
   "toc_window_display": false
  }
 },
 "nbformat": 4,
 "nbformat_minor": 5
}
